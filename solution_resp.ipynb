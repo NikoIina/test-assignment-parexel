{
 "cells": [
  {
   "cell_type": "code",
   "execution_count": 1,
   "id": "66bc786d-00a6-48f8-890e-dcfcc99d2ff4",
   "metadata": {},
   "outputs": [],
   "source": [
    "import pandas as pd\n",
    "import numpy as np\n",
    "import scipy as sp\n",
    "import statsmodels.api as sm\n",
    "import seaborn as sns\n",
    "import statsmodels.formula.api as smf\n",
    "import statsmodels.api as sm"
   ]
  },
  {
   "cell_type": "code",
   "execution_count": 2,
   "id": "4ab8a299-aa48-475a-b769-8779efbc4d01",
   "metadata": {},
   "outputs": [
    {
     "data": {
      "text/html": [
       "<div>\n",
       "<style scoped>\n",
       "    .dataframe tbody tr th:only-of-type {\n",
       "        vertical-align: middle;\n",
       "    }\n",
       "\n",
       "    .dataframe tbody tr th {\n",
       "        vertical-align: top;\n",
       "    }\n",
       "\n",
       "    .dataframe thead th {\n",
       "        text-align: right;\n",
       "    }\n",
       "</style>\n",
       "<table border=\"1\" class=\"dataframe\">\n",
       "  <thead>\n",
       "    <tr style=\"text-align: right;\">\n",
       "      <th></th>\n",
       "      <th>gender</th>\n",
       "      <th>SITEID</th>\n",
       "      <th>SUBJID</th>\n",
       "      <th>TRTPN</th>\n",
       "      <th>responseCategory</th>\n",
       "    </tr>\n",
       "  </thead>\n",
       "  <tbody>\n",
       "    <tr>\n",
       "      <th>0</th>\n",
       "      <td>MALE</td>\n",
       "      <td>1</td>\n",
       "      <td>27</td>\n",
       "      <td>2</td>\n",
       "      <td>SD</td>\n",
       "    </tr>\n",
       "    <tr>\n",
       "      <th>1</th>\n",
       "      <td>FEMALE</td>\n",
       "      <td>1</td>\n",
       "      <td>39</td>\n",
       "      <td>1</td>\n",
       "      <td>PD</td>\n",
       "    </tr>\n",
       "    <tr>\n",
       "      <th>2</th>\n",
       "      <td>MALE</td>\n",
       "      <td>1</td>\n",
       "      <td>126</td>\n",
       "      <td>2</td>\n",
       "      <td>PD</td>\n",
       "    </tr>\n",
       "    <tr>\n",
       "      <th>3</th>\n",
       "      <td>MALE</td>\n",
       "      <td>1</td>\n",
       "      <td>154</td>\n",
       "      <td>1</td>\n",
       "      <td>SD</td>\n",
       "    </tr>\n",
       "    <tr>\n",
       "      <th>4</th>\n",
       "      <td>FEMALE</td>\n",
       "      <td>1</td>\n",
       "      <td>161</td>\n",
       "      <td>1</td>\n",
       "      <td>PD</td>\n",
       "    </tr>\n",
       "  </tbody>\n",
       "</table>\n",
       "</div>"
      ],
      "text/plain": [
       "   gender  SITEID  SUBJID  TRTPN responseCategory\n",
       "0    MALE       1      27      2               SD\n",
       "1  FEMALE       1      39      1               PD\n",
       "2    MALE       1     126      2               PD\n",
       "3    MALE       1     154      1               SD\n",
       "4  FEMALE       1     161      1               PD"
      ]
     },
     "execution_count": 2,
     "metadata": {},
     "output_type": "execute_result"
    }
   ],
   "source": [
    "data = pd.read_csv('resp1.csv', delimiter='@')\n",
    "data.head()"
   ]
  },
  {
   "cell_type": "code",
   "execution_count": 3,
   "id": "ca9a63eb-9b7b-4073-b0a6-a7048f75126c",
   "metadata": {},
   "outputs": [
    {
     "data": {
      "text/plain": [
       "gender              0\n",
       "SITEID              0\n",
       "SUBJID              0\n",
       "TRTPN               0\n",
       "responseCategory    0\n",
       "dtype: int64"
      ]
     },
     "execution_count": 3,
     "metadata": {},
     "output_type": "execute_result"
    }
   ],
   "source": [
    "data.isna().sum().sort_values(ascending=False)"
   ]
  },
  {
   "cell_type": "code",
   "execution_count": 4,
   "id": "a2c93f33-860c-4e0a-8c9f-9efd277d4b9a",
   "metadata": {},
   "outputs": [
    {
     "name": "stdout",
     "output_type": "stream",
     "text": [
      "['MALE' 'FEMALE']\n",
      "[2 1]\n",
      "['SD' 'PD' 'NE' 'PR' 'CR']\n"
     ]
    }
   ],
   "source": [
    "print(data['gender'].unique())\n",
    "print(data['TRTPN'].unique())\n",
    "print(data['responseCategory'].unique())"
   ]
  },
  {
   "cell_type": "code",
   "execution_count": 5,
   "id": "96a2bc9d-717e-4327-b540-b6818f2cdda5",
   "metadata": {},
   "outputs": [],
   "source": [
    "data['response_encode'] = data['responseCategory'].map({'CR' : 1, 'PR' : 1, 'SD' : 0, 'PD' : 0, 'NE' : 0})"
   ]
  },
  {
   "cell_type": "code",
   "execution_count": 6,
   "id": "3580e472-e902-4336-95c4-2f721b3434f2",
   "metadata": {},
   "outputs": [
    {
     "data": {
      "text/plain": [
       "<AxesSubplot:xlabel='response_encode', ylabel='Count'>"
      ]
     },
     "execution_count": 6,
     "metadata": {},
     "output_type": "execute_result"
    },
    {
     "data": {
      "image/png": "[encoded data removed]",
      "text/plain": [
       "<Figure size 432x288 with 1 Axes>"
      ]
     },
     "metadata": {
      "needs_background": "light"
     },
     "output_type": "display_data"
    }
   ],
   "source": [
    "sns.histplot(data=data, x=\"response_encode\")"
   ]
  },
  {
   "cell_type": "code",
   "execution_count": 7,
   "id": "5a777188-26c5-4fdc-8f33-b3fa91765902",
   "metadata": {},
   "outputs": [],
   "source": [
    "data['gender_encode'] = data['gender'].map({'MALE' : 1, 'FEMALE' : 0})"
   ]
  },
  {
   "cell_type": "code",
   "execution_count": 8,
   "id": "a5a1b706-1843-46ca-b42c-2ea16ad01520",
   "metadata": {},
   "outputs": [
    {
     "data": {
      "text/plain": [
       "<AxesSubplot:xlabel='gender_encode', ylabel='Count'>"
      ]
     },
     "execution_count": 8,
     "metadata": {},
     "output_type": "execute_result"
    },
    {
     "data": {
      "image/png": "[encoded data removed]",
      "text/plain": [
       "<Figure size 432x288 with 1 Axes>"
      ]
     },
     "metadata": {
      "needs_background": "light"
     },
     "output_type": "display_data"
    }
   ],
   "source": [
    "sns.histplot(data=data, x=\"gender_encode\")"
   ]
  },
  {
   "cell_type": "code",
   "execution_count": 9,
   "id": "eb8df2d9-ec0d-42ed-900b-6e0c52918ae2",
   "metadata": {},
   "outputs": [
    {
     "data": {
      "text/html": [
       "<div>\n",
       "<style scoped>\n",
       "    .dataframe tbody tr th:only-of-type {\n",
       "        vertical-align: middle;\n",
       "    }\n",
       "\n",
       "    .dataframe tbody tr th {\n",
       "        vertical-align: top;\n",
       "    }\n",
       "\n",
       "    .dataframe thead th {\n",
       "        text-align: right;\n",
       "    }\n",
       "</style>\n",
       "<table border=\"1\" class=\"dataframe\">\n",
       "  <thead>\n",
       "    <tr style=\"text-align: right;\">\n",
       "      <th></th>\n",
       "      <th>gender</th>\n",
       "      <th>SITEID</th>\n",
       "      <th>SUBJID</th>\n",
       "      <th>TRTPN</th>\n",
       "      <th>responseCategory</th>\n",
       "      <th>response_encode</th>\n",
       "      <th>gender_encode</th>\n",
       "    </tr>\n",
       "  </thead>\n",
       "  <tbody>\n",
       "    <tr>\n",
       "      <th>0</th>\n",
       "      <td>MALE</td>\n",
       "      <td>1</td>\n",
       "      <td>27</td>\n",
       "      <td>2</td>\n",
       "      <td>SD</td>\n",
       "      <td>0</td>\n",
       "      <td>1</td>\n",
       "    </tr>\n",
       "    <tr>\n",
       "      <th>1</th>\n",
       "      <td>FEMALE</td>\n",
       "      <td>1</td>\n",
       "      <td>39</td>\n",
       "      <td>1</td>\n",
       "      <td>PD</td>\n",
       "      <td>0</td>\n",
       "      <td>0</td>\n",
       "    </tr>\n",
       "    <tr>\n",
       "      <th>2</th>\n",
       "      <td>MALE</td>\n",
       "      <td>1</td>\n",
       "      <td>126</td>\n",
       "      <td>2</td>\n",
       "      <td>PD</td>\n",
       "      <td>0</td>\n",
       "      <td>1</td>\n",
       "    </tr>\n",
       "    <tr>\n",
       "      <th>3</th>\n",
       "      <td>MALE</td>\n",
       "      <td>1</td>\n",
       "      <td>154</td>\n",
       "      <td>1</td>\n",
       "      <td>SD</td>\n",
       "      <td>0</td>\n",
       "      <td>1</td>\n",
       "    </tr>\n",
       "    <tr>\n",
       "      <th>4</th>\n",
       "      <td>FEMALE</td>\n",
       "      <td>1</td>\n",
       "      <td>161</td>\n",
       "      <td>1</td>\n",
       "      <td>PD</td>\n",
       "      <td>0</td>\n",
       "      <td>0</td>\n",
       "    </tr>\n",
       "  </tbody>\n",
       "</table>\n",
       "</div>"
      ],
      "text/plain": [
       "   gender  SITEID  SUBJID  TRTPN responseCategory  response_encode  \\\n",
       "0    MALE       1      27      2               SD                0   \n",
       "1  FEMALE       1      39      1               PD                0   \n",
       "2    MALE       1     126      2               PD                0   \n",
       "3    MALE       1     154      1               SD                0   \n",
       "4  FEMALE       1     161      1               PD                0   \n",
       "\n",
       "   gender_encode  \n",
       "0              1  \n",
       "1              0  \n",
       "2              1  \n",
       "3              1  \n",
       "4              0  "
      ]
     },
     "execution_count": 9,
     "metadata": {},
     "output_type": "execute_result"
    }
   ],
   "source": [
    "data.head()"
   ]
  },
  {
   "cell_type": "markdown",
   "id": "08b5bc4a-cbb7-4220-b06d-3245c279f5f8",
   "metadata": {},
   "source": [
    "## MODEL 1"
   ]
  },
  {
   "cell_type": "code",
   "execution_count": 10,
   "id": "62bc1694-c503-4498-a4c4-49afc3424106",
   "metadata": {},
   "outputs": [],
   "source": [
    "y = data['response_encode'].to_numpy()\n",
    "treatment = pd.get_dummies(data['TRTPN'])\n",
    "treatment1 = sm.add_constant(treatment[1])"
   ]
  },
  {
   "cell_type": "code",
   "execution_count": 11,
   "id": "9adf89a1-9461-4231-8ede-08eaa71decd0",
   "metadata": {},
   "outputs": [
    {
     "data": {
      "text/html": [
       "<div>\n",
       "<style scoped>\n",
       "    .dataframe tbody tr th:only-of-type {\n",
       "        vertical-align: middle;\n",
       "    }\n",
       "\n",
       "    .dataframe tbody tr th {\n",
       "        vertical-align: top;\n",
       "    }\n",
       "\n",
       "    .dataframe thead th {\n",
       "        text-align: right;\n",
       "    }\n",
       "</style>\n",
       "<table border=\"1\" class=\"dataframe\">\n",
       "  <thead>\n",
       "    <tr style=\"text-align: right;\">\n",
       "      <th></th>\n",
       "      <th>const</th>\n",
       "      <th>1</th>\n",
       "    </tr>\n",
       "  </thead>\n",
       "  <tbody>\n",
       "    <tr>\n",
       "      <th>0</th>\n",
       "      <td>1.0</td>\n",
       "      <td>0</td>\n",
       "    </tr>\n",
       "    <tr>\n",
       "      <th>1</th>\n",
       "      <td>1.0</td>\n",
       "      <td>1</td>\n",
       "    </tr>\n",
       "    <tr>\n",
       "      <th>2</th>\n",
       "      <td>1.0</td>\n",
       "      <td>0</td>\n",
       "    </tr>\n",
       "    <tr>\n",
       "      <th>3</th>\n",
       "      <td>1.0</td>\n",
       "      <td>1</td>\n",
       "    </tr>\n",
       "    <tr>\n",
       "      <th>4</th>\n",
       "      <td>1.0</td>\n",
       "      <td>1</td>\n",
       "    </tr>\n",
       "    <tr>\n",
       "      <th>...</th>\n",
       "      <td>...</td>\n",
       "      <td>...</td>\n",
       "    </tr>\n",
       "    <tr>\n",
       "      <th>577</th>\n",
       "      <td>1.0</td>\n",
       "      <td>0</td>\n",
       "    </tr>\n",
       "    <tr>\n",
       "      <th>578</th>\n",
       "      <td>1.0</td>\n",
       "      <td>0</td>\n",
       "    </tr>\n",
       "    <tr>\n",
       "      <th>579</th>\n",
       "      <td>1.0</td>\n",
       "      <td>0</td>\n",
       "    </tr>\n",
       "    <tr>\n",
       "      <th>580</th>\n",
       "      <td>1.0</td>\n",
       "      <td>0</td>\n",
       "    </tr>\n",
       "    <tr>\n",
       "      <th>581</th>\n",
       "      <td>1.0</td>\n",
       "      <td>1</td>\n",
       "    </tr>\n",
       "  </tbody>\n",
       "</table>\n",
       "<p>582 rows × 2 columns</p>\n",
       "</div>"
      ],
      "text/plain": [
       "     const  1\n",
       "0      1.0  0\n",
       "1      1.0  1\n",
       "2      1.0  0\n",
       "3      1.0  1\n",
       "4      1.0  1\n",
       "..     ... ..\n",
       "577    1.0  0\n",
       "578    1.0  0\n",
       "579    1.0  0\n",
       "580    1.0  0\n",
       "581    1.0  1\n",
       "\n",
       "[582 rows x 2 columns]"
      ]
     },
     "execution_count": 11,
     "metadata": {},
     "output_type": "execute_result"
    }
   ],
   "source": [
    "treatment1"
   ]
  },
  {
   "cell_type": "code",
   "execution_count": 12,
   "id": "58ab1f0a-c52f-4b81-aab1-90ac62f15f16",
   "metadata": {},
   "outputs": [],
   "source": [
    "model = sm.Logit(y, treatment1)"
   ]
  },
  {
   "cell_type": "code",
   "execution_count": 13,
   "id": "a027f185-0c5d-45a7-861f-b83789e92967",
   "metadata": {},
   "outputs": [
    {
     "name": "stdout",
     "output_type": "stream",
     "text": [
      "Optimization terminated successfully.\n",
      "         Current function value: 0.432137\n",
      "         Iterations 6\n"
     ]
    }
   ],
   "source": [
    "result = model.fit(method='newton')"
   ]
  },
  {
   "cell_type": "code",
   "execution_count": 14,
   "id": "acebd7c5-2971-4893-9efc-a36ab4b35847",
   "metadata": {},
   "outputs": [
    {
     "data": {
      "text/plain": [
       "const   -1.953815\n",
       "1        0.515335\n",
       "dtype: float64"
      ]
     },
     "execution_count": 14,
     "metadata": {},
     "output_type": "execute_result"
    }
   ],
   "source": [
    "result.params"
   ]
  },
  {
   "cell_type": "code",
   "execution_count": 15,
   "id": "44634457-6fb6-47ff-b0a5-4dce6a7a02fb",
   "metadata": {},
   "outputs": [
    {
     "data": {
      "text/html": [
       "<table class=\"simpletable\">\n",
       "<tr>\n",
       "        <td>Model:</td>              <td>Logit</td>      <td>Pseudo R-squared:</td>   <td>0.010</td> \n",
       "</tr>\n",
       "<tr>\n",
       "  <td>Dependent Variable:</td>         <td>y</td>              <td>AIC:</td>        <td>507.0080</td>\n",
       "</tr>\n",
       "<tr>\n",
       "         <td>Date:</td>        <td>2022-02-13 13:48</td>       <td>BIC:</td>        <td>515.7409</td>\n",
       "</tr>\n",
       "<tr>\n",
       "   <td>No. Observations:</td>         <td>582</td>        <td>Log-Likelihood:</td>   <td>-251.50</td>\n",
       "</tr>\n",
       "<tr>\n",
       "       <td>Df Model:</td>              <td>1</td>            <td>LL-Null:</td>       <td>-254.02</td>\n",
       "</tr>\n",
       "<tr>\n",
       "     <td>Df Residuals:</td>           <td>580</td>         <td>LLR p-value:</td>    <td>0.024808</td>\n",
       "</tr>\n",
       "<tr>\n",
       "      <td>Converged:</td>           <td>1.0000</td>           <td>Scale:</td>        <td>1.0000</td> \n",
       "</tr>\n",
       "<tr>\n",
       "    <td>No. Iterations:</td>        <td>6.0000</td>              <td></td>              <td></td>    \n",
       "</tr>\n",
       "</table>\n",
       "<table class=\"simpletable\">\n",
       "<tr>\n",
       "    <td></td>     <th>Coef.</th>  <th>Std.Err.</th>     <th>z</th>     <th>P>|z|</th> <th>[0.025</th>  <th>0.975]</th> \n",
       "</tr>\n",
       "<tr>\n",
       "  <th>const</th> <td>-1.9538</td>  <td>0.1781</td>  <td>-10.9712</td> <td>0.0000</td> <td>-2.3029</td> <td>-1.6048</td>\n",
       "</tr>\n",
       "<tr>\n",
       "  <th>1</th>     <td>0.5153</td>   <td>0.2320</td>   <td>2.2216</td>  <td>0.0263</td> <td>0.0607</td>  <td>0.9700</td> \n",
       "</tr>\n",
       "</table>"
      ],
      "text/plain": [
       "<class 'statsmodels.iolib.summary2.Summary'>\n",
       "\"\"\"\n",
       "                        Results: Logit\n",
       "===============================================================\n",
       "Model:              Logit            Pseudo R-squared: 0.010   \n",
       "Dependent Variable: y                AIC:              507.0080\n",
       "Date:               2022-02-13 13:48 BIC:              515.7409\n",
       "No. Observations:   582              Log-Likelihood:   -251.50 \n",
       "Df Model:           1                LL-Null:          -254.02 \n",
       "Df Residuals:       580              LLR p-value:      0.024808\n",
       "Converged:          1.0000           Scale:            1.0000  \n",
       "No. Iterations:     6.0000                                     \n",
       "----------------------------------------------------------------\n",
       "            Coef.   Std.Err.     z      P>|z|    [0.025   0.975]\n",
       "----------------------------------------------------------------\n",
       "const      -1.9538    0.1781  -10.9712  0.0000  -2.3029  -1.6048\n",
       "1           0.5153    0.2320    2.2216  0.0263   0.0607   0.9700\n",
       "===============================================================\n",
       "\n",
       "\"\"\""
      ]
     },
     "execution_count": 15,
     "metadata": {},
     "output_type": "execute_result"
    }
   ],
   "source": [
    "result.summary2()"
   ]
  },
  {
   "cell_type": "code",
   "execution_count": 31,
   "id": "80d5c4ba-79b9-45bc-b01e-84b78754c577",
   "metadata": {},
   "outputs": [],
   "source": [
    "name_tr1_tr2 = 'ODDS RATIO (95% CI): Treatment 1 VS Treatment 2'\n",
    "odds_ratio_tr1_tr2 = round(np.exp(0.5153), 2)\n",
    "CI_tr1_tr2_2 = round(np.exp(0.5153+1.96*0.2320), 2)\n",
    "CI_tr1_tr2_1 = round(np.exp(0.5153-1.96*0.2320), 2)"
   ]
  },
  {
   "cell_type": "code",
   "execution_count": 17,
   "id": "4008d991-7c69-4b06-9c92-669b95701b0f",
   "metadata": {},
   "outputs": [
    {
     "data": {
      "text/html": [
       "<div>\n",
       "<style scoped>\n",
       "    .dataframe tbody tr th:only-of-type {\n",
       "        vertical-align: middle;\n",
       "    }\n",
       "\n",
       "    .dataframe tbody tr th {\n",
       "        vertical-align: top;\n",
       "    }\n",
       "\n",
       "    .dataframe thead th {\n",
       "        text-align: right;\n",
       "    }\n",
       "</style>\n",
       "<table border=\"1\" class=\"dataframe\">\n",
       "  <thead>\n",
       "    <tr style=\"text-align: right;\">\n",
       "      <th></th>\n",
       "      <th>Odds Ratio</th>\n",
       "    </tr>\n",
       "  </thead>\n",
       "  <tbody>\n",
       "    <tr>\n",
       "      <th>const</th>\n",
       "      <td>0.141732</td>\n",
       "    </tr>\n",
       "    <tr>\n",
       "      <th>1</th>\n",
       "      <td>1.674200</td>\n",
       "    </tr>\n",
       "  </tbody>\n",
       "</table>\n",
       "</div>"
      ],
      "text/plain": [
       "       Odds Ratio\n",
       "const    0.141732\n",
       "1        1.674200"
      ]
     },
     "execution_count": 17,
     "metadata": {},
     "output_type": "execute_result"
    }
   ],
   "source": [
    "# another way of calculating it\n",
    "model_odds = pd.DataFrame(np.exp(result.params), columns=['Odds Ratio'])\n",
    "model_odds"
   ]
  },
  {
   "cell_type": "markdown",
   "id": "d6bebe95-e033-4667-b363-9e1a90d30074",
   "metadata": {},
   "source": [
    "#### QUESTIONS:\n",
    "\n",
    "Create logistic regression model with Response (responder / non-responder binomial variable, where response is an event) as dependent variable and Intercept and Treatment as independent variables.\n",
    "\n",
    "1. Report an odds ratio derived from this model of treatment 1 over treatment 2.\n",
    "2. Give a definition of Odds Ratio.\n",
    "3. Give definition of confidence interval\n",
    "4. How it is related with regression coefficients estimated in this model?\n",
    "\n",
    "#### ANSWERS:\n",
    "\n",
    "1. See above. \n",
    "2. Odds ratio - measure of assciation between an exposure and an outcome. Represents the constant effect of predictor X on the likelihood that positive outcome will occur. It is calculated as the probability that the ever occurs divided by the probability that the event does not occur.\n",
    "3. Confidence interval - statistic that shows the range of true odds ratio for population. It is used to estimate the precision of the odds ration. For example, with 95% confidence interval, you can be 95% confident that it contains the true value of the odds ratio. A large CI indicates a low level of precision, whereas a small CI indicates a highe precision of the OR.\n",
    "4. Derived from the model the odds of getting a success using treatment 1 is 1.67. This can be interpreted as follows: the subjects who received treatment 1 had a positive response 1.67 times more than subjects treated with treatment 2. Confidence values are not widely different, so we can be quite sure in our assessment. We can also be sure that true value of odds ratio falls in between 1.06 and 2.64, so treatment 1 is with 95% confidence better than treatment 2."
   ]
  },
  {
   "cell_type": "markdown",
   "id": "d7584ba1-370b-4ea2-8b74-1aced9ced768",
   "metadata": {},
   "source": [
    "## MODEL 2"
   ]
  },
  {
   "cell_type": "code",
   "execution_count": 18,
   "id": "1d45cf20-6b44-4680-9ca4-938d6431cc66",
   "metadata": {},
   "outputs": [],
   "source": [
    "treatment = pd.get_dummies(data['TRTPN'])\n",
    "treatment1 = treatment[1]\n",
    "gender = pd.get_dummies(data['gender'])\n",
    "genderfemale = gender['FEMALE']"
   ]
  },
  {
   "cell_type": "code",
   "execution_count": 19,
   "id": "e3c6dcc2-e107-4fbc-98c2-adcaa04ba2cc",
   "metadata": {},
   "outputs": [
    {
     "data": {
      "text/plain": [
       "0      0\n",
       "1      1\n",
       "2      0\n",
       "3      1\n",
       "4      1\n",
       "      ..\n",
       "577    0\n",
       "578    0\n",
       "579    0\n",
       "580    0\n",
       "581    1\n",
       "Name: 1, Length: 582, dtype: uint8"
      ]
     },
     "execution_count": 19,
     "metadata": {},
     "output_type": "execute_result"
    }
   ],
   "source": [
    "treatment1"
   ]
  },
  {
   "cell_type": "code",
   "execution_count": 20,
   "id": "006e1525-cea2-4547-968b-0078fbcdbd05",
   "metadata": {},
   "outputs": [
    {
     "name": "stdout",
     "output_type": "stream",
     "text": [
      "Optimization terminated successfully.\n",
      "         Current function value: 0.431351\n",
      "         Iterations 6\n"
     ]
    }
   ],
   "source": [
    "model_2 = smf.logit(formula='y ~ treatment1 + genderfemale + treatment1*genderfemale', data=data).fit()"
   ]
  },
  {
   "cell_type": "code",
   "execution_count": 21,
   "id": "f4c8efaa-fc16-4ff6-868e-c441ce7b1bb2",
   "metadata": {
    "tags": []
   },
   "outputs": [
    {
     "data": {
      "text/html": [
       "<table class=\"simpletable\">\n",
       "<caption>Logit Regression Results</caption>\n",
       "<tr>\n",
       "  <th>Dep. Variable:</th>           <td>y</td>        <th>  No. Observations:  </th>  <td>   582</td> \n",
       "</tr>\n",
       "<tr>\n",
       "  <th>Model:</th>                 <td>Logit</td>      <th>  Df Residuals:      </th>  <td>   578</td> \n",
       "</tr>\n",
       "<tr>\n",
       "  <th>Method:</th>                 <td>MLE</td>       <th>  Df Model:          </th>  <td>     3</td> \n",
       "</tr>\n",
       "<tr>\n",
       "  <th>Date:</th>            <td>Sun, 13 Feb 2022</td> <th>  Pseudo R-squ.:     </th>  <td>0.01172</td>\n",
       "</tr>\n",
       "<tr>\n",
       "  <th>Time:</th>                <td>13:50:03</td>     <th>  Log-Likelihood:    </th> <td> -251.05</td>\n",
       "</tr>\n",
       "<tr>\n",
       "  <th>converged:</th>             <td>True</td>       <th>  LL-Null:           </th> <td> -254.02</td>\n",
       "</tr>\n",
       "<tr>\n",
       "  <th>Covariance Type:</th>     <td>nonrobust</td>    <th>  LLR p-value:       </th>  <td>0.1139</td> \n",
       "</tr>\n",
       "</table>\n",
       "<table class=\"simpletable\">\n",
       "<tr>\n",
       "             <td></td>                <th>coef</th>     <th>std err</th>      <th>z</th>      <th>P>|z|</th>  <th>[0.025</th>    <th>0.975]</th>  \n",
       "</tr>\n",
       "<tr>\n",
       "  <th>Intercept</th>               <td>   -2.0015</td> <td>    0.238</td> <td>   -8.401</td> <td> 0.000</td> <td>   -2.468</td> <td>   -1.535</td>\n",
       "</tr>\n",
       "<tr>\n",
       "  <th>treatment1</th>              <td>    0.6881</td> <td>    0.310</td> <td>    2.216</td> <td> 0.027</td> <td>    0.080</td> <td>    1.297</td>\n",
       "</tr>\n",
       "<tr>\n",
       "  <th>genderfemale</th>            <td>    0.1106</td> <td>    0.359</td> <td>    0.308</td> <td> 0.758</td> <td>   -0.592</td> <td>    0.814</td>\n",
       "</tr>\n",
       "<tr>\n",
       "  <th>treatment1:genderfemale</th> <td>   -0.3814</td> <td>    0.468</td> <td>   -0.816</td> <td> 0.415</td> <td>   -1.298</td> <td>    0.535</td>\n",
       "</tr>\n",
       "</table>"
      ],
      "text/plain": [
       "<class 'statsmodels.iolib.summary.Summary'>\n",
       "\"\"\"\n",
       "                           Logit Regression Results                           \n",
       "==============================================================================\n",
       "Dep. Variable:                      y   No. Observations:                  582\n",
       "Model:                          Logit   Df Residuals:                      578\n",
       "Method:                           MLE   Df Model:                            3\n",
       "Date:                Sun, 13 Feb 2022   Pseudo R-squ.:                 0.01172\n",
       "Time:                        13:50:03   Log-Likelihood:                -251.05\n",
       "converged:                       True   LL-Null:                       -254.02\n",
       "Covariance Type:            nonrobust   LLR p-value:                    0.1139\n",
       "===========================================================================================\n",
       "                              coef    std err          z      P>|z|      [0.025      0.975]\n",
       "-------------------------------------------------------------------------------------------\n",
       "Intercept                  -2.0015      0.238     -8.401      0.000      -2.468      -1.535\n",
       "treatment1                  0.6881      0.310      2.216      0.027       0.080       1.297\n",
       "genderfemale                0.1106      0.359      0.308      0.758      -0.592       0.814\n",
       "treatment1:genderfemale    -0.3814      0.468     -0.816      0.415      -1.298       0.535\n",
       "===========================================================================================\n",
       "\"\"\""
      ]
     },
     "execution_count": 21,
     "metadata": {},
     "output_type": "execute_result"
    }
   ],
   "source": [
    "model_2.summary()"
   ]
  },
  {
   "cell_type": "code",
   "execution_count": 22,
   "id": "8fe6c1b2-66d0-4b06-9d78-ade83bf181e3",
   "metadata": {},
   "outputs": [],
   "source": [
    "name_1 = 'ODDS RATIO (95% CI): Treatment 1 VS. Treatment 2 | Female'\n",
    "coef_1 = (0.6881 - 0.3814)\n",
    "error_1 = np.sqrt((0.310*0.310)+(0.468*0.468))\n",
    "odds_ratio_1 = round(np.exp(coef_1), 2)\n",
    "CI_1_1 = round(np.exp(coef_1+1.96*error_1), 2)\n",
    "CI_1_2 = round(np.exp(coef_1-1.96*error_1), 2)"
   ]
  },
  {
   "cell_type": "code",
   "execution_count": 27,
   "id": "7b253e75-5315-4e38-b853-b0e88d8e88c7",
   "metadata": {
    "tags": []
   },
   "outputs": [],
   "source": [
    "name_2 = 'ODDS RATIO (95% CI): Treatment 1 VS. Treatment 2 | Male'\n",
    "coef_2 = 0.6881\n",
    "odds_ratio_2 = round(np.exp(coef_2), 2)\n",
    "CI_2_1 = round(np.exp(coef_2+1.96*0.310), 2)\n",
    "CI_2_2 = round(np.exp(coef_2-1.96*0.310), 2)"
   ]
  },
  {
   "cell_type": "code",
   "execution_count": 23,
   "id": "c0896f06-aa34-48d2-9a6c-4f72823dc21f",
   "metadata": {},
   "outputs": [],
   "source": [
    "name_3 = 'ODDS RATIO (95% CI): Female VS. Male | Treatment 1'\n",
    "coef_3 = (0.1106 - 0.3814)\n",
    "error_3 = np.sqrt((0.359*0.359)+(0.468*0.468))\n",
    "odds_ratio_3 = round(np.exp(coef_3), 2)\n",
    "CI_3_1 = round(np.exp(coef_3+1.96*error_3), 2)\n",
    "CI_3_2 = round(np.exp(coef_3-1.96*error_3), 2)"
   ]
  },
  {
   "cell_type": "code",
   "execution_count": 24,
   "id": "fa6debc5-19ef-45d1-aa24-b4f2a5fd9638",
   "metadata": {},
   "outputs": [],
   "source": [
    "name_4 = 'ODDS RATIO (95% CI): Female VS. Male | Treatment 2'\n",
    "coef_4 = 0.1106\n",
    "odds_ratio_4 = round(np.exp(coef_4), 2)\n",
    "CI_4_1 = round(np.exp(coef_4+1.96*0.359), 2)\n",
    "CI_4_2 = round(np.exp(coef_4-1.96*0.359), 2)"
   ]
  },
  {
   "cell_type": "code",
   "execution_count": 32,
   "id": "036abb61-de68-4344-8ffd-1e93c21caf78",
   "metadata": {},
   "outputs": [
    {
     "data": {
      "text/html": [
       "<div>\n",
       "<style scoped>\n",
       "    .dataframe tbody tr th:only-of-type {\n",
       "        vertical-align: middle;\n",
       "    }\n",
       "\n",
       "    .dataframe tbody tr th {\n",
       "        vertical-align: top;\n",
       "    }\n",
       "\n",
       "    .dataframe thead th {\n",
       "        text-align: right;\n",
       "    }\n",
       "</style>\n",
       "<table border=\"1\" class=\"dataframe\">\n",
       "  <thead>\n",
       "    <tr style=\"text-align: right;\">\n",
       "      <th></th>\n",
       "      <th>Task</th>\n",
       "      <th>Response rate</th>\n",
       "    </tr>\n",
       "  </thead>\n",
       "  <tbody>\n",
       "    <tr>\n",
       "      <th>0</th>\n",
       "      <td>ODDS RATIO (95% CI): Treatment 1 VS Treatment 2</td>\n",
       "      <td>[1.67, (1.06, 2.64)]</td>\n",
       "    </tr>\n",
       "    <tr>\n",
       "      <th>1</th>\n",
       "      <td>ODDS RATIO (95% CI): Treatment 1 VS. Treatment...</td>\n",
       "      <td>[1.36, (0.45, 4.08)]</td>\n",
       "    </tr>\n",
       "    <tr>\n",
       "      <th>2</th>\n",
       "      <td>ODDS RATIO (95% CI): Treatment 1 VS. Treatment...</td>\n",
       "      <td>[1.99, (1.08, 3.65)]</td>\n",
       "    </tr>\n",
       "    <tr>\n",
       "      <th>3</th>\n",
       "      <td>ODDS RATIO (95% CI): Female VS. Male | Treatme...</td>\n",
       "      <td>[0.76, (0.24, 2.42)]</td>\n",
       "    </tr>\n",
       "    <tr>\n",
       "      <th>4</th>\n",
       "      <td>ODDS RATIO (95% CI): Female VS. Male | Treatme...</td>\n",
       "      <td>[1.12, (0.55, 2.26)]</td>\n",
       "    </tr>\n",
       "    <tr>\n",
       "      <th>5</th>\n",
       "      <td>Interaction P-value</td>\n",
       "      <td>0.415</td>\n",
       "    </tr>\n",
       "  </tbody>\n",
       "</table>\n",
       "</div>"
      ],
      "text/plain": [
       "                                                Task         Response rate\n",
       "0    ODDS RATIO (95% CI): Treatment 1 VS Treatment 2  [1.67, (1.06, 2.64)]\n",
       "1  ODDS RATIO (95% CI): Treatment 1 VS. Treatment...  [1.36, (0.45, 4.08)]\n",
       "2  ODDS RATIO (95% CI): Treatment 1 VS. Treatment...  [1.99, (1.08, 3.65)]\n",
       "3  ODDS RATIO (95% CI): Female VS. Male | Treatme...  [0.76, (0.24, 2.42)]\n",
       "4  ODDS RATIO (95% CI): Female VS. Male | Treatme...  [1.12, (0.55, 2.26)]\n",
       "5                                Interaction P-value                 0.415"
      ]
     },
     "execution_count": 32,
     "metadata": {},
     "output_type": "execute_result"
    }
   ],
   "source": [
    "response_data = {'Task':[name_tr1_tr2, name_1, name_2, name_3, name_4, 'Interaction P-value'], 'Response rate': [[odds_ratio_tr1_tr2, '({0}, {1})'.format(CI_tr1_tr2_1, CI_tr1_tr2_2)],\n",
    "                                                                                          [odds_ratio_1,'({0}, {1})'.format(CI_1_2, CI_1_1)], [odds_ratio_2, '({0}, {1})'.format(CI_2_2, CI_2_1)], \n",
    "                                                                                          [odds_ratio_3, '({0}, {1})'.format(CI_3_2, CI_3_1)], [odds_ratio_4, '({0}, {1})'.format(CI_4_2, CI_4_1)], 0.415]}\n",
    "response_table = pd.DataFrame.from_dict(response_data)\n",
    "response_table"
   ]
  },
  {
   "cell_type": "markdown",
   "id": "42da3d8c-6c9f-4b03-b7c6-c543f27d97cc",
   "metadata": {},
   "source": [
    "#### QUESTIONS:\n",
    "Create logistic regression model with Response (responder / non-responder binomial variable, where response is an event) as dependent variable and Intercept, Treatment, Gender and Treatment*Gender (interaction of Treatment and Gender) as independent variables.\n",
    "\n",
    "1. Report an 4 conditional odds ratio derived from this model:\n",
    "- treatment 1 vs treatment 2 | Male\n",
    "- treatment 1 vs treatment 2 | Female\n",
    "- Female vs Male | treatment 1\n",
    "- Female vs Male | treatment 2.\n",
    "2. How these 4 odds ratio are related to estimated coefficients?\n",
    "- Report pvalue for interaction (of Treatment*Gender) significance.\n",
    "- Give definition of the pvalue.\n",
    "3. Based on this pvalue – do we need to update model (simplify it)? Why?\n",
    "\n",
    "#### ANSWERS:\n",
    "1. Derived from the model the odds are as follows:\n",
    "<ul>\n",
    "    <li> Treatment 1 vs Treatment 2 | Female: The odds of getting a success using treatment 1 over treatment 2 in female subjects is 1.36. Confidence interval values vary quite a lot though and they also drop below 1.0, so I think precision of this odds ratio is low, meaning we have to be careful whether we make decisions based on it.</li>\n",
    "    <li> Treatment 1 vs Treatment 2 | Male: The odds of getting a success using treatment 1 over treatment 2 in males subjects is 1.99. This means that male subjects who received treatment 1 had a positive response 1.99 times more than subjects treated with treatment 2. Confidence interval values vary, but not much, so we can be pretty sure with our assessment.</li>\n",
    "    <li> Female vs Male | Treatment 1: The odds of getting a success using treatment 1 in female subjects over male subjects is 0.76. This means that treatment 1 is more effective in male subjects than in female subjects. Confidence interval values vary quite a lot though, so I think precision of this odds ratio is low, meaning we have to be careful whether we make decisions based on it.</li>\n",
    "    <li> Female vs Male | Treatment 2: The odds of getting a success using treatment 2 in female subjects over male subjects is 1.12. Treatment 2 is more successful in female subjects, however, confidence intervals vary.</li>\n",
    "</ul>\n",
    "Overall, it can be said that:\n",
    "<ul>\n",
    "    <li> Treatment 1 has higher positive response rates than treatment 2 without gender variable involved. </li>\n",
    "    <li> Male subjects respond better to treatment 1 than treatment 2. </li>\n",
    "    <li> Female subjects respond better to treatment 1 than treatment 2, however, since lower confidence interval is below 1, I would suggest testing treatments on female subjects more. </li>\n",
    "    <li> Male subjects respond better to treatment 1 than female subjects. </li>\n",
    "    <li> Female subjects respond better to treatment 2 than male subjects. </li>\n",
    "    <li> However, confidence intervals are wide for last two points, so those conclusions must be tested more. </li>\n",
    "</ul>\n",
    "2. Pvalue for interaction significance is 0.415.\n",
    "Pvalue - measure of probability that observed data could have occured just by random chance. Pvalue of <0.05 means that there is only 5% chance that data on which model is based could have occured under null hypothesis (there is no significant relationship between dependant and independant variables, no correlation = random occurence), thus pvalue <0.05 means that we reject H0.\n",
    "3. Based on pvale for interaction significance we need to update the model: simplify it by removing the interaction, since it does not significantly effect our predicted value (response)."
   ]
  },
  {
   "cell_type": "code",
   "execution_count": null,
   "id": "06978b24-2ed2-4bf6-8849-19e00af20140",
   "metadata": {},
   "outputs": [],
   "source": []
  }
 ],
 "metadata": {
  "kernelspec": {
   "display_name": "Python 3",
   "language": "python",
   "name": "python3"
  },
  "language_info": {
   "codemirror_mode": {
    "name": "ipython",
    "version": 3
   },
   "file_extension": ".py",
   "mimetype": "text/x-python",
   "name": "python",
   "nbconvert_exporter": "python",
   "pygments_lexer": "ipython3",
   "version": "3.8.8"
  }
 },
 "nbformat": 4,
 "nbformat_minor": 5
}
